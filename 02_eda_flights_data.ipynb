{
 "cells": [
  {
   "cell_type": "code",
   "execution_count": null,
   "metadata": {},
   "outputs": [],
   "source": []
  }
 ],
 "metadata": {
  "interpreter": {
   "hash": "e90ca5e0c4747f62b22fb91b9a1c014c884d23ee898efe3f2ec66be015ea02ff"
  },
  "kernelspec": {
   "display_name": "Python 3.8.5 64-bit ('sql-practice': conda)",
   "language": "python",
   "name": "python3"
  },
  "language_info": {
   "name": "python",
   "version": "3.8.5"
  },
  "orig_nbformat": 4
 },
 "nbformat": 4,
 "nbformat_minor": 2
}
