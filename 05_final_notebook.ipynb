{
 "cells": [
  {
   "cell_type": "markdown",
   "metadata": {},
   "source": [
    "\n",
    "\n",
    "## Hypothesis\n",
    "- H1: Cancellation and delays appeared parallel to the hurricane path.\n",
    "- H2: There is a threshold (wind, rain, fog) until the flights are not cancelled. (Sergej)\n",
    "- H3: Many delays up to two weeks after the hurricane.\n",
    "\n",
    "- H4 Diverted flights with destination choosen airports (Sergej)\n",
    "\n",
    "## Show the course of hurricane Sandy\n",
    "- Add image from Sandy to the notebook https://www.tableau.com/solutions/gallery/storm-tracking\n",
    "- Mark the airports with dates\n",
    "\n",
    "## EDA\n",
    "\t\tcancelled\n",
    "\t\tdelays\n",
    "\t\tdiverted\n",
    "- Add dates of hurricane Sandy: \n",
    "\n",
    "## Questions to answer and plot \n",
    "- Diverted flights with destination of the airports:\n",
    "    - Boston (BOS)\n",
    "\t- Miami (MIA)\n",
    "\t- Newark (EWR)\n",
    "\t- New York (JFK)\n",
    "\t- Philadelphia (PHL)\n",
    "\t- Purto Rico (SJU)"
   ]
  },
  {
   "cell_type": "markdown",
   "metadata": {},
   "source": [
    "## Get data"
   ]
  },
  {
   "cell_type": "markdown",
   "metadata": {},
   "source": [
    "## EDA Data\n",
    "\n",
    "# Hypothesis 1"
   ]
  },
  {
   "cell_type": "code",
   "execution_count": null,
   "metadata": {},
   "outputs": [],
   "source": [
    "# aggregated data for cancellations per month\n",
    "flights_data.groupby('flight_date')[['cancelled', 'diverted']].sum()"
   ]
  },
  {
   "cell_type": "code",
   "execution_count": null,
   "metadata": {},
   "outputs": [],
   "source": [
    "# Aggregated Data for cancelled data\n",
    "flights_data[flights_data['cancelled'] == 0 ].groupby('flight_date').agg({'dep_delay': ['mean', 'min', 'max']})"
   ]
  },
  {
   "cell_type": "markdown",
   "metadata": {},
   "source": [
    "## Vis Data"
   ]
  },
  {
   "cell_type": "markdown",
   "metadata": {},
   "source": [
    "## "
   ]
  },
  {
   "cell_type": "code",
   "execution_count": null,
   "metadata": {},
   "outputs": [],
   "source": [
    "## "
   ]
  },
  {
   "cell_type": "code",
   "execution_count": null,
   "metadata": {},
   "outputs": [],
   "source": [
    "\n",
    "\n",
    "## Hypothesis\n",
    "6. Cancellation and delays appeared parallel to the hurricane path.\n",
    "4. There is a threshold (wind, rain, fog) until the flights are not cancelled.\n",
    "2. Many delays up to two weeks after the hurricane.\n",
    "\n",
    "\n",
    "## Questions to answer and plot \n",
    "\n"
   ]
  }
 ],
 "metadata": {
  "interpreter": {
   "hash": "31f2aee4e71d21fbe5cf8b01ff0e069b9275f58929596ceb00d14d90e3e16cd6"
  },
  "kernelspec": {
   "display_name": "Python 3.8.9 64-bit",
   "language": "python",
   "name": "python3"
  },
  "language_info": {
   "name": "python",
   "version": "3.8.9"
  },
  "orig_nbformat": 4
 },
 "nbformat": 4,
 "nbformat_minor": 2
}
