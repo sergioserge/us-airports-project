{
 "cells": [
  {
   "cell_type": "code",
   "execution_count": 16,
   "metadata": {},
   "outputs": [],
   "source": [
    "# Import packages\n",
    "import pandas as pd\n",
    "from creds import host, port, database, user, password\n",
    "import psycopg2"
   ]
  },
  {
   "cell_type": "code",
   "execution_count": 17,
   "metadata": {},
   "outputs": [],
   "source": [
    "conn = psycopg2.connect(host=host,\n",
    "                        port=port,\n",
    "                        database=database,\n",
    "                        user=user,\n",
    "                        password=password)"
   ]
  },
  {
   "cell_type": "code",
   "execution_count": 18,
   "metadata": {},
   "outputs": [
    {
     "name": "stdout",
     "output_type": "stream",
     "text": [
      "<class 'pandas.core.frame.DataFrame'>\n",
      "RangeIndex: 389158 entries, 0 to 389157\n",
      "Data columns (total 16 columns):\n",
      " #   Column          Non-Null Count   Dtype         \n",
      "---  ------          --------------   -----         \n",
      " 0   flight_date     389158 non-null  datetime64[ns]\n",
      " 1   dep_time        379506 non-null  float64       \n",
      " 2   sched_dep_time  389158 non-null  int64         \n",
      " 3   dep_delay       379506 non-null  float64       \n",
      " 4   arr_time        379210 non-null  float64       \n",
      " 5   sched_arr_time  389158 non-null  int64         \n",
      " 6   arr_delay       378602 non-null  float64       \n",
      " 7   airline         389158 non-null  object        \n",
      " 8   tail_number     386021 non-null  object        \n",
      " 9   flight_number   389158 non-null  int64         \n",
      " 10  origin          389158 non-null  object        \n",
      " 11  dest            389158 non-null  object        \n",
      " 12  air_time        378602 non-null  float64       \n",
      " 13  distance        389158 non-null  float64       \n",
      " 14  cancelled       389158 non-null  int64         \n",
      " 15  diverted        389158 non-null  int64         \n",
      "dtypes: datetime64[ns](1), float64(6), int64(5), object(4)\n",
      "memory usage: 47.5+ MB\n"
     ]
    }
   ],
   "source": [
    "# SQL query to get flights data\n",
    "flights_df = pd.read_sql_query(('''SELECT *     \n",
    "            FROM group4_flights_data\n",
    "            '''), conn)\n",
    "flights_df.info()"
   ]
  },
  {
   "cell_type": "code",
   "execution_count": 19,
   "metadata": {},
   "outputs": [
    {
     "name": "stdout",
     "output_type": "stream",
     "text": [
      "<class 'pandas.core.frame.DataFrame'>\n",
      "RangeIndex: 1104 entries, 0 to 1103\n",
      "Data columns (total 11 columns):\n",
      " #   Column  Non-Null Count  Dtype         \n",
      "---  ------  --------------  -----         \n",
      " 0   time    1104 non-null   datetime64[ns]\n",
      " 1   icao    1104 non-null   object        \n",
      " 2   tavg    1102 non-null   float64       \n",
      " 3   tmin    1104 non-null   float64       \n",
      " 4   tmax    1104 non-null   float64       \n",
      " 5   prcp    1104 non-null   float64       \n",
      " 6   snow    920 non-null    float64       \n",
      " 7   wdir    505 non-null    float64       \n",
      " 8   wspd    1104 non-null   float64       \n",
      " 9   pres    1048 non-null   float64       \n",
      " 10  tsun    217 non-null    float64       \n",
      "dtypes: datetime64[ns](1), float64(9), object(1)\n",
      "memory usage: 95.0+ KB\n"
     ]
    }
   ],
   "source": [
    "# SQL query to get weather data\n",
    "weather_df = pd.read_sql_query(('''SELECT *     \n",
    "            FROM group4_weather_data\n",
    "            '''), conn)\n",
    "weather_df.info()"
   ]
  },
  {
   "cell_type": "code",
   "execution_count": null,
   "metadata": {},
   "outputs": [],
   "source": [
    "# SQL query to get flights data and airports data\n",
    "flights_df = pd.read_sql_query(('''SELECT *\n",
    "            FROM group4_flights_data f\n",
    "                LEFT JOIN group4_weather w\n",
    "                    ON f.origin = w.faa OR f.dest = w.ff\n",
    "            '''), conn)\n",
    "# foreign_key!!!"
   ]
  }
 ],
 "metadata": {
  "interpreter": {
   "hash": "31f2aee4e71d21fbe5cf8b01ff0e069b9275f58929596ceb00d14d90e3e16cd6"
  },
  "kernelspec": {
   "display_name": "Python 3.8.9 64-bit",
   "language": "python",
   "name": "python3"
  },
  "language_info": {
   "codemirror_mode": {
    "name": "ipython",
    "version": 3
   },
   "file_extension": ".py",
   "mimetype": "text/x-python",
   "name": "python",
   "nbconvert_exporter": "python",
   "pygments_lexer": "ipython3",
   "version": "3.9.7"
  },
  "orig_nbformat": 4
 },
 "nbformat": 4,
 "nbformat_minor": 2
}
